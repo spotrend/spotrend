{
 "cells": [
  {
   "attachments": {},
   "cell_type": "markdown",
   "metadata": {},
   "source": [
    "# Spotrend - Demo"
   ]
  },
  {
   "attachments": {},
   "cell_type": "markdown",
   "metadata": {},
   "source": [
    "Spotrend is a Python package that simplifies the process of integrating data from the Spotify API into your projects. With Spotrend, you can easily access and manipulate data such as track information, album details, and artist bios, all without needing to write complex code. This notebook shows you how to use into your data analysis process."
   ]
  },
  {
   "cell_type": "code",
   "execution_count": null,
   "metadata": {},
   "outputs": [],
   "source": []
  }
 ],
 "metadata": {
  "kernelspec": {
   "display_name": "venv",
   "language": "python",
   "name": "python3"
  },
  "language_info": {
   "name": "python",
   "version": "3.10.8 (main, Oct 13 2022, 10:17:43) [Clang 14.0.0 (clang-1400.0.29.102)]"
  },
  "orig_nbformat": 4,
  "vscode": {
   "interpreter": {
    "hash": "6d67cabe089986ebe7075bb47f78ec1ded8804cd803c5074a546477e5f85952d"
   }
  }
 },
 "nbformat": 4,
 "nbformat_minor": 2
}
